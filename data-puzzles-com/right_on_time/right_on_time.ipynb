{
  "nbformat": 4,
  "nbformat_minor": 0,
  "metadata": {
    "colab": {
      "provenance": [],
      "include_colab_link": true
    },
    "kernelspec": {
      "name": "python3",
      "display_name": "Python 3"
    },
    "language_info": {
      "name": "python"
    }
  },
  "cells": [
    {
      "cell_type": "markdown",
      "metadata": {
        "id": "view-in-github",
        "colab_type": "text"
      },
      "source": [
        "<a href=\"https://colab.research.google.com/github/Jwelliver/data-puzzles/blob/main/data-puzzles-com/right_on_time/right_on_time.ipynb\" target=\"_parent\"><img src=\"https://colab.research.google.com/assets/colab-badge.svg\" alt=\"Open In Colab\"/></a>"
      ]
    },
    {
      "cell_type": "markdown",
      "source": [
        "# Intro\n",
        "\n",
        "A few friends and I are playing a game at 6pm. I know they often arrive late, and I really don't want to be late.\n",
        "\n",
        "I actually looked at historical data, and found out my friends arrival time can be described as random variable that follows a normal distribution of parameter mean = 'appointment time' amd std_dev = 10 min.\n",
        "\n",
        "I need to set the appointment so that Im at least 99% confident all my friends will be there by 6pm. Can you figure out the latest appointment time that would check that criteria? Thanks!!"
      ],
      "metadata": {
        "id": "z62dKQEo5eEo"
      }
    },
    {
      "cell_type": "code",
      "execution_count": 56,
      "metadata": {
        "id": "VJN2jlPR5YLF",
        "outputId": "94cdad19-9d16-48ec-d0c9-ac78a1ce519a",
        "colab": {
          "base_uri": "https://localhost:8080/"
        }
      },
      "outputs": [
        {
          "output_type": "stream",
          "name": "stdout",
          "text": [
            "Test Time: 1050 | Pct: 0.9948\n",
            "Test Time: 1051 | Pct: 0.991\n",
            "Test Time: 1052 | Pct: 0.9882\n",
            "Converted time: 5:32 pm\n"
          ]
        }
      ],
      "source": [
        "import math\n",
        "from numpy import random\n",
        "\n",
        "\n",
        "game_time = 18 * 60 # 6pm in number of minutes from midnight\n",
        "n_friends = 4\n",
        "std_dev_arrival_time_min = 10\n",
        "\n",
        "\n",
        "\n",
        "def get_percent_on_time_arrivals(requested_time, target_time, time_std_dev, n_friends, n_sets) -> float:\n",
        "  ''' returns the number of times all friends arrive before the target_time; Times are in minutes since start of day (12am)'''\n",
        "  assert n_sets != 0, \"n_sets must be greater than 0.\"\n",
        "\n",
        "  # create random arrival times in sets of n_friends with a mean of requested_time, and the given time_std_dev\n",
        "  rnd_arrival_time_sets = random.normal(loc=requested_time, scale=time_std_dev, size=(n_sets,n_friends))\n",
        "\n",
        "  #get latest arrival time for each set. | Also, filtering out any set where not all friends arrive by target_time\n",
        "  last_arrivals = [max(i) for i in rnd_arrival_time_sets if max(i) <= target_time]\n",
        "\n",
        "  # get pct of last arrival times that occur before target_time\n",
        "  return len(last_arrivals)/n_sets;\n",
        "\n",
        "\n",
        "\n",
        "def convert_minutes_to_time(mins_since_day_start) -> str:\n",
        "  assert (mins_since_day_start >= 0 and mins_since_day_start <= 1440), \"mins_since_day_start must be a value from 0 to 1440\"\n",
        "  mins_part, hours_part = math.modf(mins_since_day_start/60)\n",
        "  ampm = \"am\"\n",
        "  hrs = math.floor(hours_part)\n",
        "  if(hrs < 1): #12am\n",
        "    hrs+=12\n",
        "  if(hrs > 12): #pm\n",
        "    hrs-=12\n",
        "    ampm = \"pm\"\n",
        "  mins = math.floor(mins_part * 60)\n",
        "  converted_time_str = f'{hrs}:{mins} {ampm}'\n",
        "  return converted_time_str\n",
        "\n",
        "#=========\n",
        "\n",
        "std_dev = std_dev_arrival_time_min\n",
        "n_test_sets = 10000\n",
        "\n",
        "target_time = game_time\n",
        "three_sigma = round(std_dev*3)\n",
        "target_pct = 0.99\n",
        "\n",
        "\n",
        "for test_time in range(target_time-three_sigma, target_time):\n",
        "  pct = get_percent_on_time_arrivals(test_time, target_time, std_dev, n_friends, n_test_sets)\n",
        "  print(f'Test Time: {test_time} | Pct: {pct}')\n",
        "  if(pct <= target_pct):\n",
        "    converted_time = convert_minutes_to_time(test_time)\n",
        "    print(f'Converted time: {converted_time}')\n",
        "    break\n",
        "\n",
        "\n",
        "#==========\n",
        "\n",
        "# rnd_vals = random.normal(loc=0, scale=std_dev, size=(n_test_sets,n_friends))\n",
        "\n",
        "# sorted_vals = []\n",
        "# for i in rnd_vals:\n",
        "#   sorted_vals.append(sorted(i))\n",
        "\n",
        "# last_arrivals = [i[-1] for i in sorted_vals]\n",
        "# last_arrivals_sorted = sorted(last_arrivals)\n",
        "\n",
        "# rnd_vals = [sorted(j) for j in rnd_vals[i] for i in rnd_vals]\n",
        "\n",
        "# print(last_arrivals_sorted)\n",
        "\n",
        "# best_time_offset_index = round(n_test_sets * 0.99)\n",
        "# best_time_offset_index -= 1 if best_time_offset_index > 0 else 0\n",
        "\n",
        "# print(best_time_offset_index)\n",
        "\n",
        "# best_time_offset = last_arrivals_sorted[best_time_offset_index]\n",
        "# print(best_time_offset)\n",
        "\n",
        "\n",
        "# y = [i for i in rnd_vals if i >= 0]\n",
        "\n",
        "# t_std = std*2.1  #2.567\n",
        "\n",
        "# t = [i for i in rnd_vals if abs(i) >= t_std]\n",
        "\n",
        "# print(t_std) #2.567 | 25.67 = ~25:45 | before 6 is ~5:34pm\n",
        "# print(len(t))\n",
        "# print(1-(len(t)/len(rnd_vals)))\n",
        "\n",
        "\n",
        "\n",
        "\n",
        "\n",
        "\n",
        "\n",
        "\n",
        "# ... and that's all!\n",
        "# right_appointment_time = ?"
      ]
    },
    {
      "cell_type": "code",
      "source": [],
      "metadata": {
        "id": "lkKBacrKCnQF"
      },
      "execution_count": null,
      "outputs": []
    }
  ]
}